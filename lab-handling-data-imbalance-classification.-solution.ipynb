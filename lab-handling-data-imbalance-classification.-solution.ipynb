{
 "cells": [
  {
   "cell_type": "markdown",
   "id": "766297be",
   "metadata": {},
   "source": [
    "# Customer Churn Prediction"
   ]
  },
  {
   "cell_type": "code",
   "execution_count": 2,
   "id": "11162462",
   "metadata": {},
   "outputs": [],
   "source": [
    "import pandas as pd\n",
    "import numpy as np\n",
    "from sklearn.model_selection import train_test_split\n",
    "from sklearn.preprocessing import StandardScaler\n",
    "from sklearn.linear_model import LogisticRegression\n",
    "from sklearn.metrics import accuracy_score, confusion_matrix, classification_report\n",
    "from imblearn.over_sampling import SMOTE\n",
    "from imblearn.under_sampling import RandomUnderSampler\n",
    "from imblearn.pipeline import Pipeline   "
   ]
  },
  {
   "cell_type": "code",
   "execution_count": 4,
   "id": "6a8bb595",
   "metadata": {},
   "outputs": [
    {
     "name": "stdout",
     "output_type": "stream",
     "text": [
      "gender               object\n",
      "SeniorCitizen         int64\n",
      "Partner              object\n",
      "Dependents           object\n",
      "tenure                int64\n",
      "PhoneService         object\n",
      "OnlineSecurity       object\n",
      "OnlineBackup         object\n",
      "DeviceProtection     object\n",
      "TechSupport          object\n",
      "StreamingTV          object\n",
      "StreamingMovies      object\n",
      "Contract             object\n",
      "MonthlyCharges      float64\n",
      "TotalCharges         object\n",
      "Churn                object\n",
      "dtype: object\n",
      "gender               0\n",
      "SeniorCitizen        0\n",
      "Partner              0\n",
      "Dependents           0\n",
      "tenure               0\n",
      "PhoneService         0\n",
      "OnlineSecurity       0\n",
      "OnlineBackup         0\n",
      "DeviceProtection     0\n",
      "TechSupport          0\n",
      "StreamingTV          0\n",
      "StreamingMovies      0\n",
      "Contract             0\n",
      "MonthlyCharges       0\n",
      "TotalCharges        11\n",
      "Churn                0\n",
      "dtype: int64\n"
     ]
    }
   ],
   "source": [
    "\n",
    "churnData = pd.read_csv('./files_for_lab/Customer-Churn.csv')\n",
    "\n",
    "# Checking the data types of all columns\n",
    "print(churnData.dtypes)\n",
    "\n",
    "# Converting 'TotalCharges' to numeric, forcing errors to NaN\n",
    "churnData['TotalCharges'] = pd.to_numeric(churnData['TotalCharges'], errors='coerce')\n",
    "\n",
    "# Checking for null values\n",
    "print(churnData.isnull().sum())\n",
    "\n",
    "# Replacing null values in 'TotalCharges' with the median\n",
    "churnData['TotalCharges'].fillna(churnData['TotalCharges'].median(), inplace=True)\n",
    "    "
   ]
  },
  {
   "cell_type": "code",
   "execution_count": 5,
   "id": "48e90f2b",
   "metadata": {},
   "outputs": [
    {
     "name": "stdout",
     "output_type": "stream",
     "text": [
      "Accuracy: 0.8070\n",
      "[[959  77]\n",
      " [195 178]]\n",
      "              precision    recall  f1-score   support\n",
      "\n",
      "           0       0.83      0.93      0.88      1036\n",
      "           1       0.70      0.48      0.57       373\n",
      "\n",
      "    accuracy                           0.81      1409\n",
      "   macro avg       0.76      0.70      0.72      1409\n",
      "weighted avg       0.80      0.81      0.79      1409\n",
      "\n"
     ]
    }
   ],
   "source": [
    "\n",
    "# Selecting the relevant features and target variable\n",
    "features = churnData[['tenure', 'SeniorCitizen', 'MonthlyCharges', 'TotalCharges']]\n",
    "target = churnData['Churn'].apply(lambda x: 1 if x == 'Yes' else 0)  # Convert target to binary\n",
    "\n",
    "# Scaling the features\n",
    "scaler = StandardScaler()\n",
    "features_scaled = scaler.fit_transform(features)\n",
    "\n",
    "# Splitting the data into training and test sets\n",
    "X_train, X_test, y_train, y_test = train_test_split(features_scaled, target, test_size=0.2, random_state=42)\n",
    "\n",
    "# Fitting a logistic regression model on the training data\n",
    "model = LogisticRegression(random_state=42)\n",
    "model.fit(X_train, y_train)\n",
    "\n",
    "# Checking the accuracy on the test data\n",
    "y_pred = model.predict(X_test)\n",
    "accuracy = accuracy_score(y_test, y_pred)\n",
    "print(f'Accuracy: {accuracy:.4f}')\n",
    "\n",
    "# model evaluation\n",
    "print(confusion_matrix(y_test, y_pred))\n",
    "print(classification_report(y_test, y_pred))\n",
    "    "
   ]
  },
  {
   "cell_type": "code",
   "execution_count": 6,
   "id": "e1ead7f2",
   "metadata": {},
   "outputs": [
    {
     "name": "stdout",
     "output_type": "stream",
     "text": [
      "Churn\n",
      "0    0.73463\n",
      "1    0.26537\n",
      "Name: proportion, dtype: float64\n"
     ]
    }
   ],
   "source": [
    "\n",
    "# Checking for class imbalance\n",
    "print(target.value_counts(normalize=True))\n",
    "    "
   ]
  },
  {
   "cell_type": "code",
   "execution_count": 7,
   "id": "14293d80",
   "metadata": {},
   "outputs": [
    {
     "name": "stdout",
     "output_type": "stream",
     "text": [
      "Resampled Accuracy: 0.7522\n",
      "[[759 262]\n",
      " [251 798]]\n",
      "              precision    recall  f1-score   support\n",
      "\n",
      "           0       0.75      0.74      0.75      1021\n",
      "           1       0.75      0.76      0.76      1049\n",
      "\n",
      "    accuracy                           0.75      2070\n",
      "   macro avg       0.75      0.75      0.75      2070\n",
      "weighted avg       0.75      0.75      0.75      2070\n",
      "\n"
     ]
    }
   ],
   "source": [
    "\n",
    "# Applying SMOTE for upsampling\n",
    "smote = SMOTE(random_state=42)\n",
    "X_resampled, y_resampled = smote.fit_resample(features_scaled, target)\n",
    "\n",
    "# Splitting the resampled data\n",
    "X_train_resampled, X_test_resampled, y_train_resampled, y_test_resampled = train_test_split(X_resampled, y_resampled, test_size=0.2, random_state=42)\n",
    "\n",
    "# Fitting a logistic regression model on the resampled training data\n",
    "model_resampled = LogisticRegression(random_state=42)\n",
    "model_resampled.fit(X_train_resampled, y_train_resampled)\n",
    "\n",
    "# Checking the accuracy on the resampled test data\n",
    "y_pred_resampled = model_resampled.predict(X_test_resampled)\n",
    "accuracy_resampled = accuracy_score(y_test_resampled, y_pred_resampled)\n",
    "print(f'Resampled Accuracy: {accuracy_resampled:.4f}')\n",
    "\n",
    "# model evaluation\n",
    "print(confusion_matrix(y_test_resampled, y_pred_resampled))\n",
    "print(classification_report(y_test_resampled, y_pred_resampled))\n",
    "    "
   ]
  }
 ],
 "metadata": {
  "kernelspec": {
   "display_name": "base",
   "language": "python",
   "name": "python3"
  },
  "language_info": {
   "codemirror_mode": {
    "name": "ipython",
    "version": 3
   },
   "file_extension": ".py",
   "mimetype": "text/x-python",
   "name": "python",
   "nbconvert_exporter": "python",
   "pygments_lexer": "ipython3",
   "version": "3.11.5"
  }
 },
 "nbformat": 4,
 "nbformat_minor": 5
}
